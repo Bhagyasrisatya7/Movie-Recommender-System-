{
  "cells": [
    {
      "cell_type": "markdown",
      "metadata": {
        "id": "view-in-github",
        "colab_type": "text"
      },
      "source": [
        "<a href=\"https://colab.research.google.com/github/Bhagyasrisatya7/Movie-Recommender-System-/blob/main/Movies_Recommend_System.ipynb\" target=\"_parent\"><img src=\"https://colab.research.google.com/assets/colab-badge.svg\" alt=\"Open In Colab\"/></a>"
      ]
    },
    {
      "cell_type": "code",
      "source": [
        "import pandas as pd\n",
        "import numpy as np\n",
        "import seaborn as sns\n",
        "import matplotlib.pyplot as plt"
      ],
      "metadata": {
        "id": "8I_fRGDESDXs"
      },
      "execution_count": null,
      "outputs": []
    },
    {
      "cell_type": "code",
      "source": [
        "from google.colab import files\n",
        "uploaded = files.upload()\n"
      ],
      "metadata": {
        "id": "5dEJSx7p0UHe",
        "outputId": "f1b27aa1-6efb-4652-d2ff-15640e813f3a",
        "colab": {
          "base_uri": "https://localhost:8080/",
          "height": 73
        }
      },
      "execution_count": null,
      "outputs": [
        {
          "output_type": "display_data",
          "data": {
            "text/plain": [
              "<IPython.core.display.HTML object>"
            ],
            "text/html": [
              "\n",
              "     <input type=\"file\" id=\"files-2d51b82f-cade-4492-b56a-940f35888bda\" name=\"files[]\" multiple disabled\n",
              "        style=\"border:none\" />\n",
              "     <output id=\"result-2d51b82f-cade-4492-b56a-940f35888bda\">\n",
              "      Upload widget is only available when the cell has been executed in the\n",
              "      current browser session. Please rerun this cell to enable.\n",
              "      </output>\n",
              "      <script>// Copyright 2017 Google LLC\n",
              "//\n",
              "// Licensed under the Apache License, Version 2.0 (the \"License\");\n",
              "// you may not use this file except in compliance with the License.\n",
              "// You may obtain a copy of the License at\n",
              "//\n",
              "//      http://www.apache.org/licenses/LICENSE-2.0\n",
              "//\n",
              "// Unless required by applicable law or agreed to in writing, software\n",
              "// distributed under the License is distributed on an \"AS IS\" BASIS,\n",
              "// WITHOUT WARRANTIES OR CONDITIONS OF ANY KIND, either express or implied.\n",
              "// See the License for the specific language governing permissions and\n",
              "// limitations under the License.\n",
              "\n",
              "/**\n",
              " * @fileoverview Helpers for google.colab Python module.\n",
              " */\n",
              "(function(scope) {\n",
              "function span(text, styleAttributes = {}) {\n",
              "  const element = document.createElement('span');\n",
              "  element.textContent = text;\n",
              "  for (const key of Object.keys(styleAttributes)) {\n",
              "    element.style[key] = styleAttributes[key];\n",
              "  }\n",
              "  return element;\n",
              "}\n",
              "\n",
              "// Max number of bytes which will be uploaded at a time.\n",
              "const MAX_PAYLOAD_SIZE = 100 * 1024;\n",
              "\n",
              "function _uploadFiles(inputId, outputId) {\n",
              "  const steps = uploadFilesStep(inputId, outputId);\n",
              "  const outputElement = document.getElementById(outputId);\n",
              "  // Cache steps on the outputElement to make it available for the next call\n",
              "  // to uploadFilesContinue from Python.\n",
              "  outputElement.steps = steps;\n",
              "\n",
              "  return _uploadFilesContinue(outputId);\n",
              "}\n",
              "\n",
              "// This is roughly an async generator (not supported in the browser yet),\n",
              "// where there are multiple asynchronous steps and the Python side is going\n",
              "// to poll for completion of each step.\n",
              "// This uses a Promise to block the python side on completion of each step,\n",
              "// then passes the result of the previous step as the input to the next step.\n",
              "function _uploadFilesContinue(outputId) {\n",
              "  const outputElement = document.getElementById(outputId);\n",
              "  const steps = outputElement.steps;\n",
              "\n",
              "  const next = steps.next(outputElement.lastPromiseValue);\n",
              "  return Promise.resolve(next.value.promise).then((value) => {\n",
              "    // Cache the last promise value to make it available to the next\n",
              "    // step of the generator.\n",
              "    outputElement.lastPromiseValue = value;\n",
              "    return next.value.response;\n",
              "  });\n",
              "}\n",
              "\n",
              "/**\n",
              " * Generator function which is called between each async step of the upload\n",
              " * process.\n",
              " * @param {string} inputId Element ID of the input file picker element.\n",
              " * @param {string} outputId Element ID of the output display.\n",
              " * @return {!Iterable<!Object>} Iterable of next steps.\n",
              " */\n",
              "function* uploadFilesStep(inputId, outputId) {\n",
              "  const inputElement = document.getElementById(inputId);\n",
              "  inputElement.disabled = false;\n",
              "\n",
              "  const outputElement = document.getElementById(outputId);\n",
              "  outputElement.innerHTML = '';\n",
              "\n",
              "  const pickedPromise = new Promise((resolve) => {\n",
              "    inputElement.addEventListener('change', (e) => {\n",
              "      resolve(e.target.files);\n",
              "    });\n",
              "  });\n",
              "\n",
              "  const cancel = document.createElement('button');\n",
              "  inputElement.parentElement.appendChild(cancel);\n",
              "  cancel.textContent = 'Cancel upload';\n",
              "  const cancelPromise = new Promise((resolve) => {\n",
              "    cancel.onclick = () => {\n",
              "      resolve(null);\n",
              "    };\n",
              "  });\n",
              "\n",
              "  // Wait for the user to pick the files.\n",
              "  const files = yield {\n",
              "    promise: Promise.race([pickedPromise, cancelPromise]),\n",
              "    response: {\n",
              "      action: 'starting',\n",
              "    }\n",
              "  };\n",
              "\n",
              "  cancel.remove();\n",
              "\n",
              "  // Disable the input element since further picks are not allowed.\n",
              "  inputElement.disabled = true;\n",
              "\n",
              "  if (!files) {\n",
              "    return {\n",
              "      response: {\n",
              "        action: 'complete',\n",
              "      }\n",
              "    };\n",
              "  }\n",
              "\n",
              "  for (const file of files) {\n",
              "    const li = document.createElement('li');\n",
              "    li.append(span(file.name, {fontWeight: 'bold'}));\n",
              "    li.append(span(\n",
              "        `(${file.type || 'n/a'}) - ${file.size} bytes, ` +\n",
              "        `last modified: ${\n",
              "            file.lastModifiedDate ? file.lastModifiedDate.toLocaleDateString() :\n",
              "                                    'n/a'} - `));\n",
              "    const percent = span('0% done');\n",
              "    li.appendChild(percent);\n",
              "\n",
              "    outputElement.appendChild(li);\n",
              "\n",
              "    const fileDataPromise = new Promise((resolve) => {\n",
              "      const reader = new FileReader();\n",
              "      reader.onload = (e) => {\n",
              "        resolve(e.target.result);\n",
              "      };\n",
              "      reader.readAsArrayBuffer(file);\n",
              "    });\n",
              "    // Wait for the data to be ready.\n",
              "    let fileData = yield {\n",
              "      promise: fileDataPromise,\n",
              "      response: {\n",
              "        action: 'continue',\n",
              "      }\n",
              "    };\n",
              "\n",
              "    // Use a chunked sending to avoid message size limits. See b/62115660.\n",
              "    let position = 0;\n",
              "    do {\n",
              "      const length = Math.min(fileData.byteLength - position, MAX_PAYLOAD_SIZE);\n",
              "      const chunk = new Uint8Array(fileData, position, length);\n",
              "      position += length;\n",
              "\n",
              "      const base64 = btoa(String.fromCharCode.apply(null, chunk));\n",
              "      yield {\n",
              "        response: {\n",
              "          action: 'append',\n",
              "          file: file.name,\n",
              "          data: base64,\n",
              "        },\n",
              "      };\n",
              "\n",
              "      let percentDone = fileData.byteLength === 0 ?\n",
              "          100 :\n",
              "          Math.round((position / fileData.byteLength) * 100);\n",
              "      percent.textContent = `${percentDone}% done`;\n",
              "\n",
              "    } while (position < fileData.byteLength);\n",
              "  }\n",
              "\n",
              "  // All done.\n",
              "  yield {\n",
              "    response: {\n",
              "      action: 'complete',\n",
              "    }\n",
              "  };\n",
              "}\n",
              "\n",
              "scope.google = scope.google || {};\n",
              "scope.google.colab = scope.google.colab || {};\n",
              "scope.google.colab._files = {\n",
              "  _uploadFiles,\n",
              "  _uploadFilesContinue,\n",
              "};\n",
              "})(self);\n",
              "</script> "
            ]
          },
          "metadata": {}
        },
        {
          "output_type": "stream",
          "name": "stdout",
          "text": [
            "Saving movies_metadata.csv to movies_metadata (1).csv\n"
          ]
        }
      ]
    },
    {
      "cell_type": "code",
      "source": [
        "from google.colab import files\n",
        "uploaded = files.upload()\n"
      ],
      "metadata": {
        "id": "R-TH4ILk0aD8",
        "outputId": "fdcaf4f2-4436-4c2b-9abf-1fd72e3ddc0c",
        "colab": {
          "base_uri": "https://localhost:8080/",
          "height": 73
        }
      },
      "execution_count": null,
      "outputs": [
        {
          "output_type": "display_data",
          "data": {
            "text/plain": [
              "<IPython.core.display.HTML object>"
            ],
            "text/html": [
              "\n",
              "     <input type=\"file\" id=\"files-9f13c185-39c6-4697-a6a7-adcc62b0f1a8\" name=\"files[]\" multiple disabled\n",
              "        style=\"border:none\" />\n",
              "     <output id=\"result-9f13c185-39c6-4697-a6a7-adcc62b0f1a8\">\n",
              "      Upload widget is only available when the cell has been executed in the\n",
              "      current browser session. Please rerun this cell to enable.\n",
              "      </output>\n",
              "      <script>// Copyright 2017 Google LLC\n",
              "//\n",
              "// Licensed under the Apache License, Version 2.0 (the \"License\");\n",
              "// you may not use this file except in compliance with the License.\n",
              "// You may obtain a copy of the License at\n",
              "//\n",
              "//      http://www.apache.org/licenses/LICENSE-2.0\n",
              "//\n",
              "// Unless required by applicable law or agreed to in writing, software\n",
              "// distributed under the License is distributed on an \"AS IS\" BASIS,\n",
              "// WITHOUT WARRANTIES OR CONDITIONS OF ANY KIND, either express or implied.\n",
              "// See the License for the specific language governing permissions and\n",
              "// limitations under the License.\n",
              "\n",
              "/**\n",
              " * @fileoverview Helpers for google.colab Python module.\n",
              " */\n",
              "(function(scope) {\n",
              "function span(text, styleAttributes = {}) {\n",
              "  const element = document.createElement('span');\n",
              "  element.textContent = text;\n",
              "  for (const key of Object.keys(styleAttributes)) {\n",
              "    element.style[key] = styleAttributes[key];\n",
              "  }\n",
              "  return element;\n",
              "}\n",
              "\n",
              "// Max number of bytes which will be uploaded at a time.\n",
              "const MAX_PAYLOAD_SIZE = 100 * 1024;\n",
              "\n",
              "function _uploadFiles(inputId, outputId) {\n",
              "  const steps = uploadFilesStep(inputId, outputId);\n",
              "  const outputElement = document.getElementById(outputId);\n",
              "  // Cache steps on the outputElement to make it available for the next call\n",
              "  // to uploadFilesContinue from Python.\n",
              "  outputElement.steps = steps;\n",
              "\n",
              "  return _uploadFilesContinue(outputId);\n",
              "}\n",
              "\n",
              "// This is roughly an async generator (not supported in the browser yet),\n",
              "// where there are multiple asynchronous steps and the Python side is going\n",
              "// to poll for completion of each step.\n",
              "// This uses a Promise to block the python side on completion of each step,\n",
              "// then passes the result of the previous step as the input to the next step.\n",
              "function _uploadFilesContinue(outputId) {\n",
              "  const outputElement = document.getElementById(outputId);\n",
              "  const steps = outputElement.steps;\n",
              "\n",
              "  const next = steps.next(outputElement.lastPromiseValue);\n",
              "  return Promise.resolve(next.value.promise).then((value) => {\n",
              "    // Cache the last promise value to make it available to the next\n",
              "    // step of the generator.\n",
              "    outputElement.lastPromiseValue = value;\n",
              "    return next.value.response;\n",
              "  });\n",
              "}\n",
              "\n",
              "/**\n",
              " * Generator function which is called between each async step of the upload\n",
              " * process.\n",
              " * @param {string} inputId Element ID of the input file picker element.\n",
              " * @param {string} outputId Element ID of the output display.\n",
              " * @return {!Iterable<!Object>} Iterable of next steps.\n",
              " */\n",
              "function* uploadFilesStep(inputId, outputId) {\n",
              "  const inputElement = document.getElementById(inputId);\n",
              "  inputElement.disabled = false;\n",
              "\n",
              "  const outputElement = document.getElementById(outputId);\n",
              "  outputElement.innerHTML = '';\n",
              "\n",
              "  const pickedPromise = new Promise((resolve) => {\n",
              "    inputElement.addEventListener('change', (e) => {\n",
              "      resolve(e.target.files);\n",
              "    });\n",
              "  });\n",
              "\n",
              "  const cancel = document.createElement('button');\n",
              "  inputElement.parentElement.appendChild(cancel);\n",
              "  cancel.textContent = 'Cancel upload';\n",
              "  const cancelPromise = new Promise((resolve) => {\n",
              "    cancel.onclick = () => {\n",
              "      resolve(null);\n",
              "    };\n",
              "  });\n",
              "\n",
              "  // Wait for the user to pick the files.\n",
              "  const files = yield {\n",
              "    promise: Promise.race([pickedPromise, cancelPromise]),\n",
              "    response: {\n",
              "      action: 'starting',\n",
              "    }\n",
              "  };\n",
              "\n",
              "  cancel.remove();\n",
              "\n",
              "  // Disable the input element since further picks are not allowed.\n",
              "  inputElement.disabled = true;\n",
              "\n",
              "  if (!files) {\n",
              "    return {\n",
              "      response: {\n",
              "        action: 'complete',\n",
              "      }\n",
              "    };\n",
              "  }\n",
              "\n",
              "  for (const file of files) {\n",
              "    const li = document.createElement('li');\n",
              "    li.append(span(file.name, {fontWeight: 'bold'}));\n",
              "    li.append(span(\n",
              "        `(${file.type || 'n/a'}) - ${file.size} bytes, ` +\n",
              "        `last modified: ${\n",
              "            file.lastModifiedDate ? file.lastModifiedDate.toLocaleDateString() :\n",
              "                                    'n/a'} - `));\n",
              "    const percent = span('0% done');\n",
              "    li.appendChild(percent);\n",
              "\n",
              "    outputElement.appendChild(li);\n",
              "\n",
              "    const fileDataPromise = new Promise((resolve) => {\n",
              "      const reader = new FileReader();\n",
              "      reader.onload = (e) => {\n",
              "        resolve(e.target.result);\n",
              "      };\n",
              "      reader.readAsArrayBuffer(file);\n",
              "    });\n",
              "    // Wait for the data to be ready.\n",
              "    let fileData = yield {\n",
              "      promise: fileDataPromise,\n",
              "      response: {\n",
              "        action: 'continue',\n",
              "      }\n",
              "    };\n",
              "\n",
              "    // Use a chunked sending to avoid message size limits. See b/62115660.\n",
              "    let position = 0;\n",
              "    do {\n",
              "      const length = Math.min(fileData.byteLength - position, MAX_PAYLOAD_SIZE);\n",
              "      const chunk = new Uint8Array(fileData, position, length);\n",
              "      position += length;\n",
              "\n",
              "      const base64 = btoa(String.fromCharCode.apply(null, chunk));\n",
              "      yield {\n",
              "        response: {\n",
              "          action: 'append',\n",
              "          file: file.name,\n",
              "          data: base64,\n",
              "        },\n",
              "      };\n",
              "\n",
              "      let percentDone = fileData.byteLength === 0 ?\n",
              "          100 :\n",
              "          Math.round((position / fileData.byteLength) * 100);\n",
              "      percent.textContent = `${percentDone}% done`;\n",
              "\n",
              "    } while (position < fileData.byteLength);\n",
              "  }\n",
              "\n",
              "  // All done.\n",
              "  yield {\n",
              "    response: {\n",
              "      action: 'complete',\n",
              "    }\n",
              "  };\n",
              "}\n",
              "\n",
              "scope.google = scope.google || {};\n",
              "scope.google.colab = scope.google.colab || {};\n",
              "scope.google.colab._files = {\n",
              "  _uploadFiles,\n",
              "  _uploadFilesContinue,\n",
              "};\n",
              "})(self);\n",
              "</script> "
            ]
          },
          "metadata": {}
        },
        {
          "output_type": "stream",
          "name": "stdout",
          "text": [
            "Saving ratings_small.csv to ratings_small (1).csv\n"
          ]
        }
      ]
    },
    {
      "cell_type": "code",
      "source": [
        "movies = pd.read_csv('movies_metadata.csv', low_memory=False)\n",
        "ratings = pd.read_csv('ratings_small.csv')"
      ],
      "metadata": {
        "id": "3PhNn4H81QdE"
      },
      "execution_count": null,
      "outputs": []
    },
    {
      "cell_type": "code",
      "source": [
        "print(\"Movies Dataset Info:\")\n",
        "print(movies.info())"
      ],
      "metadata": {
        "id": "5-rj0CxO1SZz",
        "outputId": "7be540a3-a9bd-4c40-b259-6b521e5564f7",
        "colab": {
          "base_uri": "https://localhost:8080/"
        }
      },
      "execution_count": null,
      "outputs": [
        {
          "output_type": "stream",
          "name": "stdout",
          "text": [
            "Movies Dataset Info:\n",
            "<class 'pandas.core.frame.DataFrame'>\n",
            "RangeIndex: 45466 entries, 0 to 45465\n",
            "Data columns (total 24 columns):\n",
            " #   Column                 Non-Null Count  Dtype  \n",
            "---  ------                 --------------  -----  \n",
            " 0   adult                  45466 non-null  object \n",
            " 1   belongs_to_collection  4494 non-null   object \n",
            " 2   budget                 45466 non-null  object \n",
            " 3   genres                 45466 non-null  object \n",
            " 4   homepage               7782 non-null   object \n",
            " 5   id                     45466 non-null  object \n",
            " 6   imdb_id                45449 non-null  object \n",
            " 7   original_language      45455 non-null  object \n",
            " 8   original_title         45466 non-null  object \n",
            " 9   overview               44512 non-null  object \n",
            " 10  popularity             45461 non-null  object \n",
            " 11  poster_path            45080 non-null  object \n",
            " 12  production_companies   45463 non-null  object \n",
            " 13  production_countries   45463 non-null  object \n",
            " 14  release_date           45379 non-null  object \n",
            " 15  revenue                45460 non-null  float64\n",
            " 16  runtime                45203 non-null  float64\n",
            " 17  spoken_languages       45460 non-null  object \n",
            " 18  status                 45379 non-null  object \n",
            " 19  tagline                20412 non-null  object \n",
            " 20  title                  45460 non-null  object \n",
            " 21  video                  45460 non-null  object \n",
            " 22  vote_average           45460 non-null  float64\n",
            " 23  vote_count             45460 non-null  float64\n",
            "dtypes: float64(4), object(20)\n",
            "memory usage: 8.3+ MB\n",
            "None\n"
          ]
        }
      ]
    },
    {
      "cell_type": "code",
      "source": [
        "print(\"\\nRatings Dataset Info:\")\n",
        "print(ratings.info())"
      ],
      "metadata": {
        "id": "eF32uhjv1aZy",
        "outputId": "67f5880f-dcc6-4a2d-8963-82e80681ac77",
        "colab": {
          "base_uri": "https://localhost:8080/"
        }
      },
      "execution_count": null,
      "outputs": [
        {
          "output_type": "stream",
          "name": "stdout",
          "text": [
            "\n",
            "Ratings Dataset Info:\n",
            "<class 'pandas.core.frame.DataFrame'>\n",
            "RangeIndex: 100004 entries, 0 to 100003\n",
            "Data columns (total 4 columns):\n",
            " #   Column     Non-Null Count   Dtype  \n",
            "---  ------     --------------   -----  \n",
            " 0   userId     100004 non-null  int64  \n",
            " 1   movieId    100004 non-null  int64  \n",
            " 2   rating     100004 non-null  float64\n",
            " 3   timestamp  100004 non-null  int64  \n",
            "dtypes: float64(1), int64(3)\n",
            "memory usage: 3.1 MB\n",
            "None\n"
          ]
        }
      ]
    },
    {
      "cell_type": "code",
      "source": [
        "print(\"\\nMissing Values in Movies Dataset:\")\n",
        "print(movies.isnull().sum())"
      ],
      "metadata": {
        "id": "7wc_CmYi1dck",
        "outputId": "608ad1e4-3a3b-4d6c-d4e0-9497de1087e6",
        "colab": {
          "base_uri": "https://localhost:8080/"
        }
      },
      "execution_count": null,
      "outputs": [
        {
          "output_type": "stream",
          "name": "stdout",
          "text": [
            "\n",
            "Missing Values in Movies Dataset:\n",
            "adult                        0\n",
            "belongs_to_collection    40972\n",
            "budget                       0\n",
            "genres                       0\n",
            "homepage                 37684\n",
            "id                           0\n",
            "imdb_id                     17\n",
            "original_language           11\n",
            "original_title               0\n",
            "overview                   954\n",
            "popularity                   5\n",
            "poster_path                386\n",
            "production_companies         3\n",
            "production_countries         3\n",
            "release_date                87\n",
            "revenue                      6\n",
            "runtime                    263\n",
            "spoken_languages             6\n",
            "status                      87\n",
            "tagline                  25054\n",
            "title                        6\n",
            "video                        6\n",
            "vote_average                 6\n",
            "vote_count                   6\n",
            "dtype: int64\n"
          ]
        }
      ]
    },
    {
      "cell_type": "code",
      "source": [
        "print(\"\\nMissing Values in Ratings Dataset:\")\n",
        "print(ratings.isnull().sum())"
      ],
      "metadata": {
        "id": "pDkQs3qB1hk8",
        "outputId": "106f1638-e434-4bcd-a210-96836372dae5",
        "colab": {
          "base_uri": "https://localhost:8080/"
        }
      },
      "execution_count": null,
      "outputs": [
        {
          "output_type": "stream",
          "name": "stdout",
          "text": [
            "\n",
            "Missing Values in Ratings Dataset:\n",
            "userId       0\n",
            "movieId      0\n",
            "rating       0\n",
            "timestamp    0\n",
            "dtype: int64\n"
          ]
        }
      ]
    },
    {
      "cell_type": "code",
      "source": [
        "print(\"\\nMovies Dataset Preview:\")\n",
        "print(movies.head())"
      ],
      "metadata": {
        "id": "F42yko8i1i5U",
        "outputId": "d2cfc3ed-d510-4e00-8a74-f64c91737c01",
        "colab": {
          "base_uri": "https://localhost:8080/"
        }
      },
      "execution_count": null,
      "outputs": [
        {
          "output_type": "stream",
          "name": "stdout",
          "text": [
            "\n",
            "Movies Dataset Preview:\n",
            "   adult                              belongs_to_collection    budget  \\\n",
            "0  False  {'id': 10194, 'name': 'Toy Story Collection', ...  30000000   \n",
            "1  False                                                NaN  65000000   \n",
            "2  False  {'id': 119050, 'name': 'Grumpy Old Men Collect...         0   \n",
            "3  False                                                NaN  16000000   \n",
            "4  False  {'id': 96871, 'name': 'Father of the Bride Col...         0   \n",
            "\n",
            "                                              genres  \\\n",
            "0  [{'id': 16, 'name': 'Animation'}, {'id': 35, '...   \n",
            "1  [{'id': 12, 'name': 'Adventure'}, {'id': 14, '...   \n",
            "2  [{'id': 10749, 'name': 'Romance'}, {'id': 35, ...   \n",
            "3  [{'id': 35, 'name': 'Comedy'}, {'id': 18, 'nam...   \n",
            "4                     [{'id': 35, 'name': 'Comedy'}]   \n",
            "\n",
            "                               homepage     id    imdb_id original_language  \\\n",
            "0  http://toystory.disney.com/toy-story    862  tt0114709                en   \n",
            "1                                   NaN   8844  tt0113497                en   \n",
            "2                                   NaN  15602  tt0113228                en   \n",
            "3                                   NaN  31357  tt0114885                en   \n",
            "4                                   NaN  11862  tt0113041                en   \n",
            "\n",
            "                original_title  \\\n",
            "0                    Toy Story   \n",
            "1                      Jumanji   \n",
            "2             Grumpier Old Men   \n",
            "3            Waiting to Exhale   \n",
            "4  Father of the Bride Part II   \n",
            "\n",
            "                                            overview  ... release_date  \\\n",
            "0  Led by Woody, Andy's toys live happily in his ...  ...   1995-10-30   \n",
            "1  When siblings Judy and Peter discover an encha...  ...   1995-12-15   \n",
            "2  A family wedding reignites the ancient feud be...  ...   1995-12-22   \n",
            "3  Cheated on, mistreated and stepped on, the wom...  ...   1995-12-22   \n",
            "4  Just when George Banks has recovered from his ...  ...   1995-02-10   \n",
            "\n",
            "       revenue runtime                                   spoken_languages  \\\n",
            "0  373554033.0    81.0           [{'iso_639_1': 'en', 'name': 'English'}]   \n",
            "1  262797249.0   104.0  [{'iso_639_1': 'en', 'name': 'English'}, {'iso...   \n",
            "2          0.0   101.0           [{'iso_639_1': 'en', 'name': 'English'}]   \n",
            "3   81452156.0   127.0           [{'iso_639_1': 'en', 'name': 'English'}]   \n",
            "4   76578911.0   106.0           [{'iso_639_1': 'en', 'name': 'English'}]   \n",
            "\n",
            "     status                                            tagline  \\\n",
            "0  Released                                                NaN   \n",
            "1  Released          Roll the dice and unleash the excitement!   \n",
            "2  Released  Still Yelling. Still Fighting. Still Ready for...   \n",
            "3  Released  Friends are the people who let you be yourself...   \n",
            "4  Released  Just When His World Is Back To Normal... He's ...   \n",
            "\n",
            "                         title  video vote_average vote_count  \n",
            "0                    Toy Story  False          7.7     5415.0  \n",
            "1                      Jumanji  False          6.9     2413.0  \n",
            "2             Grumpier Old Men  False          6.5       92.0  \n",
            "3            Waiting to Exhale  False          6.1       34.0  \n",
            "4  Father of the Bride Part II  False          5.7      173.0  \n",
            "\n",
            "[5 rows x 24 columns]\n"
          ]
        }
      ]
    },
    {
      "cell_type": "code",
      "source": [
        "print(\"\\nRatings Dataset Preview:\")\n",
        "print(ratings.head())"
      ],
      "metadata": {
        "id": "73oopo9-1q5F",
        "outputId": "dd6733ef-b181-4bd8-fb9c-e7507e731cef",
        "colab": {
          "base_uri": "https://localhost:8080/"
        }
      },
      "execution_count": null,
      "outputs": [
        {
          "output_type": "stream",
          "name": "stdout",
          "text": [
            "\n",
            "Ratings Dataset Preview:\n",
            "   userId  movieId  rating   timestamp\n",
            "0       1       31     2.5  1260759144\n",
            "1       1     1029     3.0  1260759179\n",
            "2       1     1061     3.0  1260759182\n",
            "3       1     1129     2.0  1260759185\n",
            "4       1     1172     4.0  1260759205\n"
          ]
        }
      ]
    },
    {
      "cell_type": "code",
      "source": [
        "movies['budget'] = pd.to_numeric(movies['budget'], errors='coerce')\n",
        "movies['revenue'] = pd.to_numeric(movies['revenue'], errors='coerce')"
      ],
      "metadata": {
        "id": "kQSFXaNY1sc_"
      },
      "execution_count": null,
      "outputs": []
    },
    {
      "cell_type": "code",
      "source": [
        "print(\"\\nRatings Dataset Statistics:\")\n",
        "print(ratings['rating'].describe())"
      ],
      "metadata": {
        "id": "HsdeoP9p1zB0",
        "outputId": "a9944dee-2b3c-4023-c96f-d88f95800854",
        "colab": {
          "base_uri": "https://localhost:8080/"
        }
      },
      "execution_count": null,
      "outputs": [
        {
          "output_type": "stream",
          "name": "stdout",
          "text": [
            "\n",
            "Ratings Dataset Statistics:\n",
            "count    100004.000000\n",
            "mean          3.543608\n",
            "std           1.058064\n",
            "min           0.500000\n",
            "25%           3.000000\n",
            "50%           4.000000\n",
            "75%           4.000000\n",
            "max           5.000000\n",
            "Name: rating, dtype: float64\n"
          ]
        }
      ]
    },
    {
      "cell_type": "code",
      "source": [
        "plt.figure(figsize=(8, 6))\n",
        "sns.histplot(ratings['rating'], bins=30, kde=False, color='yellow')\n",
        "plt.title('Distribution of Movie Ratings')\n",
        "plt.xlabel('Rating')\n",
        "plt.ylabel('Count')\n",
        "plt.show()"
      ],
      "metadata": {
        "id": "x4B0e5GF10ak",
        "outputId": "9bb1b5a5-709f-4283-bd42-9a90a6d73277",
        "colab": {
          "base_uri": "https://localhost:8080/",
          "height": 564
        }
      },
      "execution_count": null,
      "outputs": [
        {
          "output_type": "display_data",
          "data": {
            "text/plain": [
              "<Figure size 800x600 with 1 Axes>"
            ],
            "image/png": "[encoded data removed]"
          },
          "metadata": {}
        }
      ]
    },
    {
      "cell_type": "code",
      "source": [
        "ratings_per_movie = ratings.groupby('movieId').size()\n",
        "plt.figure(figsize=(8, 6))\n",
        "sns.histplot(ratings_per_movie, bins=50, kde=False, color='yellow')\n",
        "plt.title('Number of Ratings per Movie')\n",
        "plt.xlabel('Number of Ratings')\n",
        "plt.ylabel('Count')\n",
        "plt.show()"
      ],
      "metadata": {
        "id": "ePxGftWS191l",
        "outputId": "754b26d6-b443-45df-bf8f-5ededbd01e6c",
        "colab": {
          "base_uri": "https://localhost:8080/",
          "height": 564
        }
      },
      "execution_count": null,
      "outputs": [
        {
          "output_type": "display_data",
          "data": {
            "text/plain": [
              "<Figure size 800x600 with 1 Axes>"
            ],
            "image/png": "[encoded data removed]"
          },
          "metadata": {}
        }
      ]
    },
    {
      "cell_type": "code",
      "source": [
        "ratings_per_user = ratings.groupby('userId').size()\n",
        "plt.figure(figsize=(8, 6))\n",
        "sns.histplot(ratings_per_user, bins=50, kde=False, color='orange')\n",
        "plt.title('Number of Ratings per User')\n",
        "plt.xlabel('Number of Ratings')\n",
        "plt.ylabel('Count')\n",
        "plt.show()"
      ],
      "metadata": {
        "id": "9Rh0Q7Yj2Fgr",
        "outputId": "0a0dbcba-f220-475e-a570-2f6fd9e0b610",
        "colab": {
          "base_uri": "https://localhost:8080/",
          "height": 564
        }
      },
      "execution_count": null,
      "outputs": [
        {
          "output_type": "display_data",
          "data": {
            "text/plain": [
              "<Figure size 800x600 with 1 Axes>"
            ],
            "image/png": "[encoded data removed]"
          },
          "metadata": {}
        }
      ]
    },
    {
      "cell_type": "code",
      "source": [
        "movies['vote_count'] = pd.to_numeric(movies['vote_count'], errors='coerce')\n",
        "plt.figure(figsize=(8, 6))\n",
        "sns.histplot(movies['vote_count'].dropna(), bins=50, kde=False, color='red')\n",
        "plt.title('Distribution of Movie Popularity (Vote Count)')\n",
        "plt.xlabel('Vote Count')\n",
        "plt.ylabel('Count')\n",
        "plt.show()"
      ],
      "metadata": {
        "id": "aJqFxlmT2JZ_",
        "outputId": "958004cd-98c2-445b-efcd-690e40c3658a",
        "colab": {
          "base_uri": "https://localhost:8080/",
          "height": 564
        }
      },
      "execution_count": null,
      "outputs": [
        {
          "output_type": "display_data",
          "data": {
            "text/plain": [
              "<Figure size 800x600 with 1 Axes>"
            ],
            "image/png": "[encoded data removed]"
          },
          "metadata": {}
        }
      ]
    },
    {
      "cell_type": "code",
      "source": [
        "!pip install surprise"
      ],
      "metadata": {
        "id": "9sdXuLp-2PXE",
        "outputId": "cb504f8d-ea57-4dc5-cc11-a310593fef0f",
        "colab": {
          "base_uri": "https://localhost:8080/"
        }
      },
      "execution_count": null,
      "outputs": [
        {
          "output_type": "stream",
          "name": "stdout",
          "text": [
            "Collecting surprise\n",
            "  Downloading surprise-0.1-py2.py3-none-any.whl.metadata (327 bytes)\n",
            "Collecting scikit-surprise (from surprise)\n",
            "  Downloading scikit_surprise-1.1.4.tar.gz (154 kB)\n",
            "\u001b[?25l     \u001b[90m━━━━━━━━━━━━━━━━━━━━━━━━━━━━━━━━━━━━━━━━\u001b[0m \u001b[32m0.0/154.4 kB\u001b[0m \u001b[31m?\u001b[0m eta \u001b[36m-:--:--\u001b[0m\r\u001b[2K     \u001b[91m━━━━━━━━━━━━━━━━━━━━━━━━━━━━━━━━━━━━━━━\u001b[0m\u001b[91m╸\u001b[0m \u001b[32m153.6/154.4 kB\u001b[0m \u001b[31m4.5 MB/s\u001b[0m eta \u001b[36m0:00:01\u001b[0m\r\u001b[2K     \u001b[90m━━━━━━━━━━━━━━━━━━━━━━━━━━━━━━━━━━━━━━━━\u001b[0m \u001b[32m154.4/154.4 kB\u001b[0m \u001b[31m3.1 MB/s\u001b[0m eta \u001b[36m0:00:00\u001b[0m\n",
            "\u001b[?25h  Installing build dependencies ... \u001b[?25l\u001b[?25hdone\n",
            "  Getting requirements to build wheel ... \u001b[?25l\u001b[?25hdone\n",
            "  Preparing metadata (pyproject.toml) ... \u001b[?25l\u001b[?25hdone\n",
            "Requirement already satisfied: joblib>=1.2.0 in /usr/local/lib/python3.11/dist-packages (from scikit-surprise->surprise) (1.4.2)\n",
            "Requirement already satisfied: numpy>=1.19.5 in /usr/local/lib/python3.11/dist-packages (from scikit-surprise->surprise) (1.26.4)\n",
            "Requirement already satisfied: scipy>=1.6.0 in /usr/local/lib/python3.11/dist-packages (from scikit-surprise->surprise) (1.14.1)\n",
            "Downloading surprise-0.1-py2.py3-none-any.whl (1.8 kB)\n",
            "Building wheels for collected packages: scikit-surprise\n",
            "  Building wheel for scikit-surprise (pyproject.toml) ... \u001b[?25l\u001b[?25hdone\n",
            "  Created wheel for scikit-surprise: filename=scikit_surprise-1.1.4-cp311-cp311-linux_x86_64.whl size=2505167 sha256=ac6d98d3592b7e2829fe59435babf3653ae22daf947daecbab60aa81ec0c0c0f\n",
            "  Stored in directory: /root/.cache/pip/wheels/2a/8f/6e/7e2899163e2d85d8266daab4aa1cdabec7a6c56f83c015b5af\n",
            "Successfully built scikit-surprise\n",
            "Installing collected packages: scikit-surprise, surprise\n",
            "Successfully installed scikit-surprise-1.1.4 surprise-0.1\n"
          ]
        }
      ]
    },
    {
      "cell_type": "code",
      "source": [
        "from surprise import Dataset, Reader, SVD\n",
        "from surprise.model_selection import cross_validate\n",
        "\n",
        "# Load the ratings dataset into Surprise's format\n",
        "reader = Reader(rating_scale=(0.5, 5))\n",
        "data = Dataset.load_from_df(ratings[['userId', 'movieId', 'rating']], reader)"
      ],
      "metadata": {
        "id": "ZEEWkaOb3JgD"
      },
      "execution_count": null,
      "outputs": []
    },
    {
      "cell_type": "code",
      "source": [
        "svd = SVD()\n",
        "\n",
        "# Evaluate the model using cross-validation\n",
        "print(\"\\nCross-Validation Results:\")\n",
        "cross_validate(svd, data, measures=['RMSE', 'MAE'], cv=5, verbose=True)"
      ],
      "metadata": {
        "id": "2lRZ-TFB3Qtq",
        "outputId": "e4368669-7b5d-4b74-c5d4-7d13f79c8947",
        "colab": {
          "base_uri": "https://localhost:8080/"
        }
      },
      "execution_count": null,
      "outputs": [
        {
          "output_type": "stream",
          "name": "stdout",
          "text": [
            "\n",
            "Cross-Validation Results:\n",
            "Evaluating RMSE, MAE of algorithm SVD on 5 split(s).\n",
            "\n",
            "                  Fold 1  Fold 2  Fold 3  Fold 4  Fold 5  Mean    Std     \n",
            "RMSE (testset)    0.8942  0.8946  0.8943  0.8958  0.9018  0.8962  0.0029  \n",
            "MAE (testset)     0.6898  0.6876  0.6890  0.6892  0.6944  0.6900  0.0023  \n",
            "Fit time          1.59    2.70    2.52    1.57    1.57    1.99    0.51    \n",
            "Test time         0.12    0.11    0.26    0.12    0.23    0.17    0.07    \n"
          ]
        },
        {
          "output_type": "execute_result",
          "data": {
            "text/plain": [
              "{'test_rmse': array([0.89420321, 0.89459953, 0.89434847, 0.89578459, 0.90182156]),\n",
              " 'test_mae': array([0.68982268, 0.68764913, 0.6889683 , 0.68923709, 0.69436281]),\n",
              " 'fit_time': (1.5904841423034668,\n",
              "  2.695606231689453,\n",
              "  2.515707015991211,\n",
              "  1.5687916278839111,\n",
              "  1.5691964626312256),\n",
              " 'test_time': (0.1160435676574707,\n",
              "  0.1069185733795166,\n",
              "  0.2638585567474365,\n",
              "  0.11686420440673828,\n",
              "  0.23031830787658691)}"
            ]
          },
          "metadata": {},
          "execution_count": 27
        }
      ]
    },
    {
      "cell_type": "code",
      "source": [
        "trainset = data.build_full_trainset()\n",
        "svd.fit(trainset)"
      ],
      "metadata": {
        "id": "nuYqnoMr3UAu",
        "outputId": "390402c5-6292-4225-bdd8-d4f218ec4ea6",
        "colab": {
          "base_uri": "https://localhost:8080/"
        }
      },
      "execution_count": null,
      "outputs": [
        {
          "output_type": "execute_result",
          "data": {
            "text/plain": [
              "<surprise.prediction_algorithms.matrix_factorization.SVD at 0x7ce17287f710>"
            ]
          },
          "metadata": {},
          "execution_count": 28
        }
      ]
    },
    {
      "cell_type": "code",
      "source": [
        "\n",
        "user_id = 1\n",
        "movie_id = 10  # Replace with a valid movie ID from your dataset\n",
        "prediction = svd.predict(user_id, movie_id)\n",
        "print(f\"\\nPredicted rating for user {user_id} and movie {movie_id}: {prediction.est}\")"
      ],
      "metadata": {
        "id": "0tEaukoQ3c2w",
        "outputId": "d4e1b3f6-e643-48e8-a3a8-f257b0ced3fd",
        "colab": {
          "base_uri": "https://localhost:8080/"
        }
      },
      "execution_count": null,
      "outputs": [
        {
          "output_type": "stream",
          "name": "stdout",
          "text": [
            "\n",
            "Predicted rating for user 1 and movie 10: 2.5926260967236137\n"
          ]
        }
      ]
    },
    {
      "cell_type": "code",
      "source": [
        "def recommend_movies(user_id, num_recommendations=10):\n",
        "    \"\"\"\n",
        "    Recommends the top N movies for a given user based on predicted ratings.\n",
        "\n",
        "    Parameters:\n",
        "    - user_id: The ID of the user to recommend movies for.\n",
        "    - num_recommendations: Number of movies to recommend.\n",
        "\n",
        "    Returns:\n",
        "    - DataFrame with top recommended movies and their predicted ratings.\n",
        "    \"\"\"\n",
        "    # List all unique movie IDs\n",
        "    movie_ids = movies['id'].dropna().unique()\n",
        "\n",
        "    # Predict ratings for all movies the user hasn't rated yet\n",
        "    movie_ratings = []\n",
        "    for movie_id in movie_ids:\n",
        "        try:\n",
        "            prediction = svd.predict(user_id, int(movie_id))\n",
        "            movie_ratings.append((movie_id, prediction.est))\n",
        "        except ValueError:\n",
        "            continue\n",
        "\n",
        "    # Sort movies by predicted rating in descending order\n",
        "    sorted_ratings = sorted(movie_ratings, key=lambda x: x[1], reverse=True)[:num_recommendations]\n",
        "\n",
        "    # Get movie titles for the recommended IDs\n",
        "    recommended_movies = pd.DataFrame(sorted_ratings, columns=['movieId', 'predicted_rating'])\n",
        "    recommended_movies = recommended_movies.merge(movies, left_on='movieId', right_on='id', how='left')\n",
        "\n",
        "    return recommended_movies[['title', 'predicted_rating']]"
      ],
      "metadata": {
        "id": "dsQ8oXPe3k0M"
      },
      "execution_count": null,
      "outputs": []
    },
    {
      "cell_type": "code",
      "source": [
        "user_id=int(input())\n",
        "top_recommendations = recommend_movies(user_id, num_recommendations=10)\n",
        "print(\"\\nTop 10 Recommended Movies:\")\n",
        "print(top_recommendations)"
      ],
      "metadata": {
        "id": "vk5XqbwB3r9M",
        "outputId": "3854a44f-c308-4cdc-b7e5-9fff6ce1c6d4",
        "colab": {
          "base_uri": "https://localhost:8080/"
        }
      },
      "execution_count": null,
      "outputs": [
        {
          "output_type": "stream",
          "name": "stdout",
          "text": [
            "10\n",
            "\n",
            "Top 10 Recommended Movies:\n",
            "                      title  predicted_rating\n",
            "0      Sleepless in Seattle          4.594937\n",
            "1   While You Were Sleeping          4.538354\n",
            "2          Bonnie and Clyde          4.524048\n",
            "3        Once Were Warriors          4.512739\n",
            "4           Broken Blossoms          4.506576\n",
            "5             Lonely Hearts          4.487654\n",
            "6            The Good Thief          4.473470\n",
            "7  The Million Dollar Hotel          4.448557\n",
            "8            License to Wed          4.436276\n",
            "9               Hard Target          4.415794\n"
          ]
        }
      ]
    }
  ],
  "metadata": {
    "colab": {
      "provenance": [],
      "include_colab_link": true
    },
    "kernelspec": {
      "display_name": "Python 3",
      "name": "python3"
    }
  },
  "nbformat": 4,
  "nbformat_minor": 0
}